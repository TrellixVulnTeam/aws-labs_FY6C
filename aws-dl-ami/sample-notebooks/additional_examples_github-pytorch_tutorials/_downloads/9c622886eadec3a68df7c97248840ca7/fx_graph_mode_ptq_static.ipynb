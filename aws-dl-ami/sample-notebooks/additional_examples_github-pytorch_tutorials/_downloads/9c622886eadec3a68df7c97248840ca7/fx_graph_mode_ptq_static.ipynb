{
  "cells": [
    {
      "cell_type": "code",
      "execution_count": null,
      "metadata": {
        "collapsed": false
      },
      "outputs": [],
      "source": [
        "%matplotlib inline"
      ]
    },
    {
      "cell_type": "markdown",
      "metadata": {},
      "source": [
        "\n(prototype) FX Graph Mode Post Training Static Quantization\n===========================================================\n\n**Author**: `Jerry Zhang <https://github.com/jerryzh168>`_\n\nThis tutorial introduces the steps to do post training static quantization in graph mode based on\n`torch.fx <https://github.com/pytorch/pytorch/blob/master/torch/fx/__init__.py>`_. \nThe advantage of FX graph mode quantization is that we can perform quantization fully automatically on the model\nalthough there might some effort required to make the model compatible with FX Graph Mode Quantizatiion (symbolically traceable with ``torch.fx``),\nwe'll have a separate tutorial to show how to make the part of the model we want to quantize compatibble with FX Graph Mode Quantization. \n\nWe also have a tutorial for FX Graph Mode Post Training Dynamic Quantization(todo).\t\n\ntldr; The FX Graph Mode API looks like the following:\n\n.. code:: python\n\n    import torch\n    from torch.quantization import get_default_qconfig\n    # Note that this is temporary, we'll expose these functions to torch.quantization after official releasee\n    from torch.quantization.quantize_fx import prepare_fx, convert_fx\n\n    float_model.eval()\n    qconfig = get_default_qconfig(\"fbgemm\")\n    qconfig_dict = {\"\": qconfig}\n\n    def calibrate(model, data_loader):\n        model.eval()\n        with torch.no_grad():\n            for image, target in data_loader:\n                model(image)\n\n    prepared_model = prepare_fx(float_model, qconfig_dict)  # fuse modules and insert observers\n    calibrate(prepared_model, data_loader_test)  # run calibration on sample data\n    quantized_model = convert_fx(prepared_model)  # convert the calibrated model to a quantized model\n\n"
      ]
    },
    {
      "cell_type": "markdown",
      "metadata": {},
      "source": [
        "1. Motivation of FX Graph Mode Quantization\n-------------------------------------------\n\nCurrently PyTorch only has eager mode quantization: `Static Quantization with Eager Mode in PyTorch <https://pytorch.org/tutorials/advanced/static_quantization_tutorial.html>`_.\n\nWe can see there are multiple manual steps involved in the process, including:\n\n- Explicitly quantize and dequantize activations, this is time consuming when floating point and quantized operations are mixed in a model.\n- Explicitly fuse modules, this requires manually identifying the sequence of convolutions, batch norms and relus and other fusion patterns.\n- Special handling is needed for pytorch tensor operations (like add, concat etc.)\n- Functionals did not have first class support (functional.conv2d and functional.linear would not get quantized)\n\nMost of these required modifications comes from the underlying limitations of eager mode quantization. Eager mode works in module level since it can not inspect the code that is actually run (in the forward function), quantization is achieved by module swapping, and we don\u2019t know how the modules are used in forward function in eager mode, so it requires users to insert QuantStub and DeQuantStub manually to mark the points they want to quantize or dequantize. \nIn graph mode, we can inspect the actual code that\u2019s been executed in forward function (e.g. aten function calls) and quantization is achieved by module and graph manipulations. Since graph mode has full visibility of the code that is run, our tool is able to automatically figure out things like which modules to fuse and where to insert observer calls, quantize/dequantize functions etc., we are able to automate the whole quantization process.\n\nAdvantages of FX Graph Mode Quantization are:\n\n- Simple quantization flow, minimal manual steps\n- Unlocks the possibility of doing higher level optimizations like automatic precision selection\n\n2. Define Helper Functions and Prepare Dataset\n----------------------------------------------\n\nWe\u2019ll start by doing the necessary imports, defining some helper functions and prepare the data. \nThese steps are identitcal to `Static Quantization with Eager Mode in PyTorch <https://pytorch.org/tutorials/advanced/static_quantization_tutorial.html>`_.    \n\nDownload dataset:\n\n.. code::\n\n    wget https://s3.amazonaws.com/pytorch-tutorial-assets/imagenet_1k.zip\n\nand unzip to `data` folder.\nDownload the `torchvision resnet18 model <https://github.com/pytorch/vision/blob/master/torchvision/models/resnet.py#L12>`_ and rename it to\n``data/resnet18_pretrained_float.pth``.\n\n"
      ]
    },
    {
      "cell_type": "code",
      "execution_count": null,
      "metadata": {
        "collapsed": false
      },
      "outputs": [],
      "source": [
        "import numpy as np\nimport torch\nimport torch.nn as nn\nimport torchvision\nfrom torch.utils.data import DataLoader\nfrom torchvision import datasets\nimport torchvision.transforms as transforms\nimport os\nimport time\nimport sys\nimport torch.quantization\n\n# Setup warnings\nimport warnings\nwarnings.filterwarnings(\n    action='ignore',\n    category=DeprecationWarning,\n    module=r'.*'\n)\nwarnings.filterwarnings(\n    action='default',\n    module=r'torch.quantization'\n)\n\n# Specify random seed for repeatable results\n_ = torch.manual_seed(191009)\n\n\nfrom torchvision.models.resnet import resnet18\nfrom torch.quantization import get_default_qconfig, quantize_jit\n\nclass AverageMeter(object):\n    \"\"\"Computes and stores the average and current value\"\"\"\n    def __init__(self, name, fmt=':f'):\n        self.name = name\n        self.fmt = fmt\n        self.reset()\n\n    def reset(self):\n        self.val = 0\n        self.avg = 0\n        self.sum = 0\n        self.count = 0\n\n    def update(self, val, n=1):\n        self.val = val\n        self.sum += val * n\n        self.count += n\n        self.avg = self.sum / self.count\n\n    def __str__(self):\n        fmtstr = '{name} {val' + self.fmt + '} ({avg' + self.fmt + '})'\n        return fmtstr.format(**self.__dict__)\n\n\ndef accuracy(output, target, topk=(1,)):\n    \"\"\"Computes the accuracy over the k top predictions for the specified values of k\"\"\"\n    with torch.no_grad():\n        maxk = max(topk)\n        batch_size = target.size(0)\n\n        _, pred = output.topk(maxk, 1, True, True)\n        pred = pred.t()\n        correct = pred.eq(target.view(1, -1).expand_as(pred))\n\n        res = []\n        for k in topk:\n            correct_k = correct[:k].reshape(-1).float().sum(0, keepdim=True)\n            res.append(correct_k.mul_(100.0 / batch_size))\n        return res\n\n\ndef evaluate(model, criterion, data_loader):\n    model.eval()\n    top1 = AverageMeter('Acc@1', ':6.2f')\n    top5 = AverageMeter('Acc@5', ':6.2f')\n    cnt = 0\n    with torch.no_grad():\n        for image, target in data_loader:\n            output = model(image)\n            loss = criterion(output, target)\n            cnt += 1\n            acc1, acc5 = accuracy(output, target, topk=(1, 5))\n            top1.update(acc1[0], image.size(0))\n            top5.update(acc5[0], image.size(0))\n    print('')\n\n    return top1, top5\n\ndef load_model(model_file):\n    model = resnet18(pretrained=False)\n    state_dict = torch.load(model_file)\n    model.load_state_dict(state_dict)\n    model.to(\"cpu\")\n    return model\n\ndef print_size_of_model(model):\n    if isinstance(model, torch.jit.RecursiveScriptModule):\n        torch.jit.save(model, \"temp.p\")\n    else:\n        torch.jit.save(torch.jit.script(model), \"temp.p\")\n    print(\"Size (MB):\", os.path.getsize(\"temp.p\")/1e6)\n    os.remove(\"temp.p\")\n\ndef prepare_data_loaders(data_path):\n\n    traindir = os.path.join(data_path, 'train')\n    valdir = os.path.join(data_path, 'val')\n    normalize = transforms.Normalize(mean=[0.485, 0.456, 0.406],\n                                     std=[0.229, 0.224, 0.225])\n\n    dataset = torchvision.datasets.ImageFolder(\n        traindir,\n        transforms.Compose([\n            transforms.RandomResizedCrop(224),\n            transforms.RandomHorizontalFlip(),\n            transforms.ToTensor(),\n            normalize,\n        ]))\n\n    dataset_test = torchvision.datasets.ImageFolder(\n        valdir,\n        transforms.Compose([\n            transforms.Resize(256),\n            transforms.CenterCrop(224),\n            transforms.ToTensor(),\n            normalize,\n        ]))\n\n    train_sampler = torch.utils.data.RandomSampler(dataset)\n    test_sampler = torch.utils.data.SequentialSampler(dataset_test)\n\n    data_loader = torch.utils.data.DataLoader(\n        dataset, batch_size=train_batch_size,\n        sampler=train_sampler)\n\n    data_loader_test = torch.utils.data.DataLoader(\n        dataset_test, batch_size=eval_batch_size,\n        sampler=test_sampler)\n\n    return data_loader, data_loader_test\n\ndata_path = 'data/imagenet_1k'\nsaved_model_dir = 'data/'\nfloat_model_file = 'resnet18_pretrained_float.pth'\n\ntrain_batch_size = 30\neval_batch_size = 30\n\ndata_loader, data_loader_test = prepare_data_loaders(data_path)\ncriterion = nn.CrossEntropyLoss()\nfloat_model = load_model(saved_model_dir + float_model_file).to(\"cpu\")\nfloat_model.eval()\t\n\n# deepcopy the model since we need to keep the original model around\nimport copy\nmodel_to_quantize = copy.deepcopy(float_model)"
      ]
    },
    {
      "cell_type": "markdown",
      "metadata": {},
      "source": [
        "3. Set model to eval mode\n-------------------------\nFor post training quantization, we'll need to set model to eval mode.\n\n"
      ]
    },
    {
      "cell_type": "code",
      "execution_count": null,
      "metadata": {
        "collapsed": false
      },
      "outputs": [],
      "source": [
        "model_to_quantize.eval()"
      ]
    },
    {
      "cell_type": "markdown",
      "metadata": {},
      "source": [
        "4. Specify how to quantize the model with ``qconfig_dict``\n----------------------------------------------------------\n\n.. code:: python\n\n  qconfig_dict = {\"\" : default_qconfig}\n\nWe use the same qconfig used in eager mode quantization, ``qconfig`` is just a named tuple \nof the observers for activation and weight. ``qconfig_dict`` is a dictionary with the following configurations:\n\n.. code:: python\n\n  qconfig = {\n      \" : qconfig_global,\n      \"sub\" : qconfig_sub,\n      \"sub.fc\" : qconfig_fc,\n      \"sub.conv\": None\n  }\n  qconfig_dict = {\n      # qconfig? means either a valid qconfig or None\n      # optional, global config\n      \"\": qconfig?,\n      # optional, used for module and function types\n      # could also be split into module_types and function_types if we prefer\n      \"object_type\": [\n          (torch.nn.Conv2d, qconfig?),\n          (torch.nn.functional.add, qconfig?),\n          ...,\n      ],\n      # optional, used for module names\n      \"module_name\": [\n          (\"foo.bar\", qconfig?)\n          ...,\n      ],\n      # optional, matched in order, first match takes precedence\n      \"module_name_regex\": [\n          (\"foo.*bar.*conv[0-9]+\", qconfig?)\n          ...,\n      ],\n      # priority (in increasing order): global, object_type, module_name_regex, module_name\n      # qconfig == None means fusion and quantization should be skipped for anything\n      # matching the rule\n\n      # **api subject to change**\n      # optional: specify the path for standalone modules\n      # These modules are symbolically traced and quantized as one unit\n      # so that the call to the submodule appears as one call_module\n      # node in the forward graph of the GraphModule\n      \"standalone_module_name\": [\n          \"submodule.standalone\"\n      ],\n      \"standalone_module_class\": [\n          StandaloneModuleClass\n      ]\n  }\n\nUtility functions related to ``qconfig`` can be found in the `qconfig <https://github.com/pytorch/pytorch/blob/master/torch/quantization/qconfig.py>`_ file.\n\n"
      ]
    },
    {
      "cell_type": "code",
      "execution_count": null,
      "metadata": {
        "collapsed": false
      },
      "outputs": [],
      "source": [
        "qconfig = get_default_qconfig(\"fbgemm\")\nqconfig_dict = {\"\": qconfig}"
      ]
    },
    {
      "cell_type": "markdown",
      "metadata": {},
      "source": [
        "5. Prepare the Model for Post Training Static Quantization\n----------------------------------------------------------\n\n.. code:: python\n\n    prepared_model = prepare_fx(model_to_quantize, qconfig_dict)\n\nprepare_fx folds BatchNorm modules into previous Conv2d modules, and insert observers \nin appropriate places in the model.\n\n"
      ]
    },
    {
      "cell_type": "code",
      "execution_count": null,
      "metadata": {
        "collapsed": false
      },
      "outputs": [],
      "source": [
        "prepared_model = prepare_fx(model_to_quantize, qconfig_dict)\n\nprint(prepared_model.graph)"
      ]
    },
    {
      "cell_type": "markdown",
      "metadata": {},
      "source": [
        "6. Calibration\n--------------\nCalibration function is run after the observers are inserted in the model. \nThe purpose for calibration is to run through some sample examples that is representative of the workload \n(for example a sample of the training data set) so that the observers in the model are able to observe\nthe statistics of the Tensors and we can later use this information to calculate quantization parameters.\n\n"
      ]
    },
    {
      "cell_type": "code",
      "execution_count": null,
      "metadata": {
        "collapsed": false
      },
      "outputs": [],
      "source": [
        "def calibrate(model, data_loader):\n    model.eval()\n    with torch.no_grad():\n        for image, target in data_loader:\n            model(image)\ncalibrate(prepared_model, data_loader_test)  # run calibration on sample data"
      ]
    },
    {
      "cell_type": "markdown",
      "metadata": {},
      "source": [
        "7. Convert the Model to a Quantized Model\n-----------------------------------------\n``convert_fx`` takes a calibrated model and produces a quantized model.\n\n"
      ]
    },
    {
      "cell_type": "code",
      "execution_count": null,
      "metadata": {
        "collapsed": false
      },
      "outputs": [],
      "source": [
        "quantized_model = convert_fx(prepared_model)\nprint(quantized_model)"
      ]
    },
    {
      "cell_type": "markdown",
      "metadata": {},
      "source": [
        "8. Evaluation\n-------------\nWe can now print the size and accuracy of the quantized model.\n\n"
      ]
    },
    {
      "cell_type": "code",
      "execution_count": null,
      "metadata": {
        "collapsed": false
      },
      "outputs": [],
      "source": [
        "print(\"Size of model before quantization\")\nprint_size_of_model(float_model)\nprint(\"Size of model after quantization\")\nprint_size_of_model(quantized_model)\ntop1, top5 = evaluate(quantized_model, criterion, data_loader_test)\nprint(\"[before serilaization] Evaluation accuracy on test dataset: %2.2f, %2.2f\"%(top1.avg, top5.avg))\n\nfx_graph_mode_model_file_path = saved_model_dir + \"resnet18_fx_graph_mode_quantized.pth\"\n\n# this does not run due to some erros loading convrelu module:\n# ModuleAttributeError: 'ConvReLU2d' object has no attribute '_modules'\n# save the whole model directly\n# torch.save(quantized_model, fx_graph_mode_model_file_path)\n# loaded_quantized_model = torch.load(fx_graph_mode_model_file_path)\n\n# save with state_dict\n# torch.save(quantized_model.state_dict(), fx_graph_mode_model_file_path)\n# import copy\n# model_to_quantize = copy.deepcopy(float_model)\n# prepared_model = prepare_fx(model_to_quantize, {\"\": qconfig})\n# loaded_quantized_model = convert_fx(prepared_model)\n# loaded_quantized_model.load_state_dict(torch.load(fx_graph_mode_model_file_path))\n\n# save with script\ntorch.jit.save(torch.jit.script(quantized_model), fx_graph_mode_model_file_path)\nloaded_quantized_model = torch.jit.load(fx_graph_mode_model_file_path)\n\ntop1, top5 = evaluate(loaded_quantized_model, criterion, data_loader_test)\nprint(\"[after serialization/deserialization] Evaluation accuracy on test dataset: %2.2f, %2.2f\"%(top1.avg, top5.avg))"
      ]
    },
    {
      "cell_type": "markdown",
      "metadata": {},
      "source": [
        "If you want to get better accuracy or performance,  try changing the `qconfig_dict`. \nWe plan to add support for graph mode in the Numerical Suite so that you can \neasily determine the sensitivity towards quantization of different modules in a model: `PyTorch Numeric Suite Tutorial <https://pytorch.org/tutorials/prototype/numeric_suite_tutorial.html>`_\n\n9. Debugging Quantized Model\n----------------------------\nWe can also print the weight for quantized an un-quantized conv to see the difference, \nwe'll first call fuse explicitly to fuse the conv and bn in the model: \nNote that ``fuse_fx`` only works in eval mode.\n\n"
      ]
    },
    {
      "cell_type": "code",
      "execution_count": null,
      "metadata": {
        "collapsed": false
      },
      "outputs": [],
      "source": [
        "fused = fuse_fx(float_model)\n\nconv1_weight_after_fuse = fused.conv1[0].weight[0]\nconv1_weight_after_quant = quantized_model.conv1.weight().dequantize()[0]\n\nprint(torch.max(abs(conv1_weight_after_fuse - conv1_weight_after_quant)))"
      ]
    },
    {
      "cell_type": "markdown",
      "metadata": {},
      "source": [
        "10. Comparison with Baseline Float Model and Eager Mode Quantization\n---------------------------\n\n"
      ]
    },
    {
      "cell_type": "code",
      "execution_count": null,
      "metadata": {
        "collapsed": false
      },
      "outputs": [],
      "source": [
        "scripted_float_model_file = \"resnet18_scripted.pth\"\n\nprint(\"Size of baseline model\")\nprint_size_of_model(float_model)\n\ntop1, top5 = evaluate(float_model, criterion, data_loader_test)\nprint(\"Baseline Float Model Evaluation accuracy: %2.2f, %2.2f\"%(top1.avg, top5.avg))\ntorch.jit.save(torch.jit.script(float_model), saved_model_dir + scripted_float_model_file)"
      ]
    },
    {
      "cell_type": "markdown",
      "metadata": {},
      "source": [
        "In this section we compare the model quantized with FX graph mode quantization with the model \nquantized in eager mode. FX graph mode and eager mode produce very similar quantized models, \nso the expectation is that the accuracy and speedup are similar as well.\n\n"
      ]
    },
    {
      "cell_type": "code",
      "execution_count": null,
      "metadata": {
        "collapsed": false
      },
      "outputs": [],
      "source": [
        "print(\"Size of Fx graph mode quantized model\")\nprint_size_of_model(quantized_model)\ntop1, top5 = evaluate(quantized_model, criterion, data_loader_test)\nprint(\"FX graph mode quantized model Evaluation accuracy on test dataset: %2.2f, %2.2f\"%(top1.avg, top5.avg))\n\nfrom torchvision.models.quantization.resnet import resnet18\neager_quantized_model = resnet18(pretrained=True, quantize=True).eval()\nprint(\"Size of eager mode quantized model\")\neager_quantized_model = torch.jit.script(eager_quantized_model)\nprint_size_of_model(eager_quantized_model)\ntop1, top5 = evaluate(eager_quantized_model, criterion, data_loader_test)\nprint(\"eager mode quantized model Evaluation accuracy on test dataset: %2.2f, %2.2f\"%(top1.avg, top5.avg))\neager_mode_model_file = \"resnet18_eager_mode_quantized.pth\"\ntorch.jit.save(eager_quantized_model, saved_model_dir + eager_mode_model_file)"
      ]
    },
    {
      "cell_type": "markdown",
      "metadata": {},
      "source": [
        "We can see that the model size and accuracy of FX\tgraph mode and eager mode quantized model are pretty similar.\n\nRunning the model in AIBench (with single threading) gives the following result:\n\n.. code::\n\n  Scripted Float Model:\n  Self CPU time total: 192.48ms\n\n  Scripted Eager Mode Quantized Model:\n  Self CPU time total: 50.76ms\n\n  Scripted FX Graph Mode Quantized Model:\n  Self CPU time total: 50.63ms\n\nAs we can see for resnet18 both FX graph mode and eager mode quantized model get similar speed up over the floating point model,\nwhich is around 2-4x faster than the floating point model. But the actual speedup over floating point model may vary\ndepending on model, device, build, input batch sizes, threading etc.\n\n\n"
      ]
    }
  ],
  "metadata": {
    "kernelspec": {
      "display_name": "Python 3",
      "language": "python",
      "name": "python3"
    },
    "language_info": {
      "codemirror_mode": {
        "name": "ipython",
        "version": 3
      },
      "file_extension": ".py",
      "mimetype": "text/x-python",
      "name": "python",
      "nbconvert_exporter": "python",
      "pygments_lexer": "ipython3",
      "version": "3.6.8"
    }
  },
  "nbformat": 4,
  "nbformat_minor": 0
}